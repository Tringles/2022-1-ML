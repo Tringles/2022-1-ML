{
 "cells": [
  {
   "cell_type": "code",
   "execution_count": 95,
   "metadata": {},
   "outputs": [],
   "source": [
    "import csv\n",
    "import math\n",
    "import numpy as np"
   ]
  },
  {
   "cell_type": "code",
   "execution_count": 96,
   "metadata": {},
   "outputs": [],
   "source": [
    "test_path = 'wine_test.csv'\n",
    "train_path = 'wine_train.csv'"
   ]
  },
  {
   "cell_type": "code",
   "execution_count": 97,
   "metadata": {},
   "outputs": [],
   "source": [
    "def data_loader(path):\n",
    "\tsamples = csv.reader(open(path, 'rt'))\n",
    "\tsamples = list(samples)\n",
    "\n",
    "\tfeature_info = list()\n",
    "\tlabel_info = list()\n",
    "\n",
    "\tfor sample in samples:\n",
    "\t\tsample = list(map(float, sample))\n",
    "\t\tlabel_info.append(int(sample.pop()))\n",
    "\t\tfeature_info.append(sample)\n",
    "\n",
    "\treturn feature_info, label_info"
   ]
  },
  {
   "cell_type": "code",
   "execution_count": 98,
   "metadata": {},
   "outputs": [],
   "source": [
    "def get_GaussianNBC(train_samples, train_labels):\n",
    "\twine_class_0_samples = []\n",
    "\twine_class_1_samples = []\n",
    "\twine_class_2_samples = []\n",
    "\t\n",
    "\tfor k in range(len(train_samples)):\n",
    "\t\tsample = train_samples[k]\n",
    "\t\tlabel = train_labels[k]\n",
    "\n",
    "\t\tif label == 0:\n",
    "\t\t\twine_class_0_samples.append(sample)\n",
    "\t\telif label == 1:\n",
    "\t\t\twine_class_1_samples.append(sample)\n",
    "\t\telif label == 2:\n",
    "\t\t\twine_class_2_samples.append(sample)\n",
    "\n",
    "\tsamples_by_classes = [\n",
    "\t\twine_class_0_samples,\n",
    "\t\twine_class_1_samples,\n",
    "\t\twine_class_2_samples\n",
    "\t]\n",
    "\n",
    "\tnumOf_classes = 3\n",
    "\tmeans_by_classes = []\n",
    "\tstdev_by_classes = []\n",
    "\n",
    "\tfor C in range(numOf_classes):\n",
    "\t\tmeans = []\n",
    "\t\tstdevs = []\n",
    "\t\tfor features in zip(*samples_by_classes[C]):\n",
    "\t\t\tmeans.append(np.mean(features))\n",
    "\t\t\tstdevs.append(np.std(features))\n",
    "\t\tmeans_by_classes.append(means)\n",
    "\t\tstdev_by_classes.append(stdevs)\n",
    "\n",
    "\treturn means_by_classes, stdev_by_classes"
   ]
  },
  {
   "cell_type": "code",
   "execution_count": 99,
   "metadata": {},
   "outputs": [],
   "source": [
    "def Gaussian_PDF(x, mean, stdev):\n",
    "\tif stdev == 0.0:\n",
    "\t\tif x == mean:\n",
    "\t\t\treturn 1.0\n",
    "\t\telse:\n",
    "\t\t\treturn 0.0\n",
    "\treturn np.exp(-(x - mean)**2 / (2 * stdev**2)) / np.sqrt(2 * np.pi * stdev**2)"
   ]
  },
  {
   "cell_type": "code",
   "execution_count": 100,
   "metadata": {},
   "outputs": [],
   "source": [
    "def predict(means, stdevs, test_samples):\n",
    "\tpred_classes = []\n",
    "\tnumOf_classes = 3\n",
    "\tnumOf_features = 13\n",
    "\n",
    "\tfor i in range(len(test_samples)):\n",
    "\t\tprob_by_classes = []\n",
    "\t\tfor C in range(numOf_classes):\n",
    "\t\t\tprob = 1\n",
    "\t\t\tfor j in range(numOf_features):\n",
    "\t\t\t\tmean = means[C][j]\n",
    "\t\t\t\tstdev = stdevs[C][j]\n",
    "\t\t\t\tx = test_samples[i][j]\n",
    "\t\t\t\tprob *= Gaussian_PDF(x, mean, stdev)\n",
    "\t\t\tprob_by_classes.append(prob)\n",
    "\t\t\n",
    "\t\tbestProb = -1\n",
    "\t\tfor C in range(numOf_classes):\n",
    "\t\t\tif prob_by_classes[C] > bestProb:\n",
    "\t\t\t\tbestProb = prob_by_classes[C]\n",
    "\t\t\t\tpred_Label = C\n",
    "\t\tpred_classes.append(pred_Label)\n",
    "\treturn pred_classes\n",
    "\n"
   ]
  },
  {
   "cell_type": "code",
   "execution_count": 101,
   "metadata": {},
   "outputs": [],
   "source": [
    "def get_Acc(pred_classes_of_testset, gt_of_testset):\n",
    "\taccuracy = np.equal(pred_classes_of_testset, gt_of_testset)\n",
    "\treturn list(accuracy).count(True) / len(accuracy) * 100"
   ]
  },
  {
   "cell_type": "code",
   "execution_count": 102,
   "metadata": {},
   "outputs": [],
   "source": [
    "train_samples, train_labels = data_loader(train_path)\n",
    "test_samples, test_labels = data_loader(test_path)"
   ]
  },
  {
   "cell_type": "code",
   "execution_count": 103,
   "metadata": {},
   "outputs": [],
   "source": [
    "means_by_classes, stdev_by_classes = get_GaussianNBC(train_samples, train_labels)"
   ]
  },
  {
   "cell_type": "code",
   "execution_count": 104,
   "metadata": {},
   "outputs": [],
   "source": [
    "pred_classes = predict(means_by_classes, stdev_by_classes, test_samples)"
   ]
  },
  {
   "cell_type": "code",
   "execution_count": 105,
   "metadata": {},
   "outputs": [
    {
     "name": "stdout",
     "output_type": "stream",
     "text": [
      "Acc: 93.25842696629213\n"
     ]
    }
   ],
   "source": [
    "acc = get_Acc(pred_classes, test_labels)\n",
    "print(f'Acc: {acc}')"
   ]
  }
 ],
 "metadata": {
  "interpreter": {
   "hash": "5db0bf8e65298cb01341d1d0401e9d0f1ebbad7939f704a64363986abd13b2a8"
  },
  "kernelspec": {
   "display_name": "Python 3.9.7 ('nlp')",
   "language": "python",
   "name": "python3"
  },
  "language_info": {
   "codemirror_mode": {
    "name": "ipython",
    "version": 3
   },
   "file_extension": ".py",
   "mimetype": "text/x-python",
   "name": "python",
   "nbconvert_exporter": "python",
   "pygments_lexer": "ipython3",
   "version": "3.9.7"
  },
  "orig_nbformat": 4
 },
 "nbformat": 4,
 "nbformat_minor": 2
}
