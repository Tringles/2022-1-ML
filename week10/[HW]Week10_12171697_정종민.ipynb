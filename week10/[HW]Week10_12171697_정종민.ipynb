{
 "cells": [
  {
   "cell_type": "code",
   "execution_count": 35,
   "metadata": {},
   "outputs": [],
   "source": [
    "import warnings\n",
    "import numpy as np\n",
    "import matplotlib.pyplot as plt\n",
    "from sklearn.datasets import fetch_openml"
   ]
  },
  {
   "cell_type": "code",
   "execution_count": 36,
   "metadata": {},
   "outputs": [],
   "source": [
    "warnings.filterwarnings(action='ignore')"
   ]
  },
  {
   "cell_type": "code",
   "execution_count": 2,
   "metadata": {},
   "outputs": [],
   "source": [
    "X, y = fetch_openml('mnist_784', version=1, return_X_y=True, as_frame=False)"
   ]
  },
  {
   "cell_type": "code",
   "execution_count": 37,
   "metadata": {},
   "outputs": [],
   "source": [
    "_X = (X - X.mean()) / X.std()"
   ]
  },
  {
   "cell_type": "code",
   "execution_count": 38,
   "metadata": {},
   "outputs": [],
   "source": [
    "train_X = np.array(_X[:-10000])\n",
    "test_X = np.array(_X[-10000:])\n",
    "\n",
    "train_y = y[:-10000].astype(np.int32)\n",
    "test_y = y[-10000:].astype(np.int32)\n",
    "\n",
    "n_values = np.max(train_y) + 1\n",
    "train_y_hot = np.eye(n_values)[train_y]\n",
    "test_y_hot = np.eye(n_values)[test_y]\n"
   ]
  },
  {
   "cell_type": "code",
   "execution_count": 39,
   "metadata": {},
   "outputs": [],
   "source": [
    "epoch = 10000\n",
    "learning_rate = 0.1"
   ]
  },
  {
   "cell_type": "code",
   "execution_count": 40,
   "metadata": {},
   "outputs": [],
   "source": [
    "def sigmoid(x):\n",
    "\treturn 1 / (1 + np.exp(-x))"
   ]
  },
  {
   "cell_type": "code",
   "execution_count": 41,
   "metadata": {},
   "outputs": [],
   "source": [
    "def cross_entropy(y, y_hat):\n",
    "\ty = np.array(y)\n",
    "\ty_hat = np.array(y_hat)\n",
    "\tc_y_hat = np.minimum(np.maximum(y_hat, 1e-15), 1- 1e-15)\n",
    "\tloss = y * np.log(c_y_hat) + (1 - y) * np.log(1 - c_y_hat)\n",
    "\treturn -1.0 * loss.mean()"
   ]
  },
  {
   "cell_type": "code",
   "execution_count": 42,
   "metadata": {},
   "outputs": [],
   "source": [
    "w = np.random.uniform(-1, 1, (784, 10))\n",
    "b = np.random.uniform(-1, 1, 10)"
   ]
  },
  {
   "cell_type": "code",
   "execution_count": 43,
   "metadata": {},
   "outputs": [
    {
     "name": "stdout",
     "output_type": "stream",
     "text": [
      "Epoch#0: accuracy: 0.07913333333333333 loss: 19.545098542577847\n",
      "Epoch#21: accuracy: 0.8091833333333334 loss: 1.853531446381009\n"
     ]
    }
   ],
   "source": [
    "for e in range(epoch):\n",
    "\thypothesis = sigmoid(np.matmul(train_X, w) + b)\n",
    "\n",
    "\ty_hat = np.argmax(hypothesis, axis=1)\n",
    "\taccuracy = (y_hat == train_y).mean()\n",
    "\n",
    "\tloss = cross_entropy(hypothesis, train_y_hot)\n",
    "\n",
    "\tif e % 50 == 0:\n",
    "\t\tprint(f'Epoch#{e}: accuracy: {accuracy} loss: {loss}')\n",
    "\n",
    "\tif accuracy > 0.80:\n",
    "\t\tprint(f'Epoch#{e}: accuracy: {accuracy} loss: {loss}')\n",
    "\t\tbreak\n",
    "\t\n",
    "\tdelta_w = learning_rate * (np.matmul(train_X.T, (hypothesis - train_y_hot)))\n",
    "\tdelta_b = learning_rate * (hypothesis - train_y_hot).mean(axis=0)\n",
    "\n",
    "\tw -= delta_w\n",
    "\tb -= delta_b\n",
    "\n"
   ]
  },
  {
   "cell_type": "code",
   "execution_count": 44,
   "metadata": {},
   "outputs": [],
   "source": [
    "predict_y = np.argmax(hypothesis, axis=1)"
   ]
  },
  {
   "cell_type": "code",
   "execution_count": 47,
   "metadata": {},
   "outputs": [
    {
     "data": {
      "image/png": "[encoded data removed]",
      "text/plain": [
       "<Figure size 432x288 with 10 Axes>"
      ]
     },
     "metadata": {
      "needs_background": "light"
     },
     "output_type": "display_data"
    }
   ],
   "source": [
    "fig, axes = plt.subplots(2, 5, constrained_layout=True)\n",
    "\n",
    "for i, ax in enumerate(axes.flat):\n",
    "\tax.imshow(1 - train_X[i].reshape((28, 28)), cmap='gray', vmin=0, vmax=1)\n",
    "\tax.set(title=f'Actual: {y[i]}\\nPredict: {predict_y[i]}')"
   ]
  },
  {
   "cell_type": "code",
   "execution_count": null,
   "metadata": {},
   "outputs": [],
   "source": []
  }
 ],
 "metadata": {
  "interpreter": {
   "hash": "5db0bf8e65298cb01341d1d0401e9d0f1ebbad7939f704a64363986abd13b2a8"
  },
  "kernelspec": {
   "display_name": "Python 3.9.7 ('nlp')",
   "language": "python",
   "name": "python3"
  },
  "language_info": {
   "codemirror_mode": {
    "name": "ipython",
    "version": 3
   },
   "file_extension": ".py",
   "mimetype": "text/x-python",
   "name": "python",
   "nbconvert_exporter": "python",
   "pygments_lexer": "ipython3",
   "version": "3.9.7"
  },
  "orig_nbformat": 4
 },
 "nbformat": 4,
 "nbformat_minor": 2
}
