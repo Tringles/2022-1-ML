{
 "cells": [
  {
   "cell_type": "code",
   "execution_count": null,
   "metadata": {},
   "outputs": [],
   "source": [
    "import numpy as np\n",
    "import pandas as pd\n",
    "import matplotlib.pyplot as plt\n",
    "import time"
   ]
  },
  {
   "cell_type": "code",
   "execution_count": null,
   "metadata": {},
   "outputs": [],
   "source": [
    "data = pd.read_csv(\"https://raw.githubusercontent.com/Baakchsu/LinearRegression/master/weight-height.csv\")"
   ]
  },
  {
   "cell_type": "code",
   "execution_count": null,
   "metadata": {},
   "outputs": [],
   "source": [
    "class LinearRegression:\n",
    "\tdef min_max_norm(data_list):\n",
    "\t\tnormalized_data = []\n",
    "\n",
    "\t\tfor data in data_list:\n",
    "\t\t\tnormalized_x = (data - min(data_list)) / (max(data_list) - min(data_list))\n",
    "\t\t\tnormalized_data.append(normalized_x)\n",
    "\t\t\n",
    "\t\treturn normalized_data\n",
    "\t\n",
    "\tdef zscore_norm(data_list):\n",
    "\t\tnormalized_data = []\n",
    "\n",
    "\t\tfor data in data_list:\n",
    "\t\t\tz_score = (data - np.mean(data_list)) / np.std(data_list)\n",
    "\t\t\tnormalized_data.append(z_score)\n",
    "\n",
    "\t\treturn normalized_data\n",
    "\n",
    "\tdef fit (self, X, Y, s, text=\"\"):\n",
    "\t\tglobal x\n",
    "\t\tglobal y\n",
    "\t\tX = np.array(X).reshape(1, -1)\n",
    "\t\tY = np.array(Y).reshape(1, -1)\n",
    "\t\tx_shape = X.shape\n",
    "\t\tnum_var = x_shape[0]\n",
    "\t\tself.parameter_cahce = []\n",
    "\t\tself.preds = []\n",
    "\t\tself.weight = np.random.normal(0, 1, (num_var, 1))\n",
    "\t\tself.bias = np.random.rand(1)\n",
    "\t\tself.num_iteration = 50\n",
    "\n",
    "\t\tfor t in range(1, self.num_iteration + 1):\n",
    "\t\t\tN = x_shape[1]\n",
    "\t\t\tself.delta_W = 2/N * (np.sum(np.multiply(((np.matmul(self.weight, X) + self.bias) - Y), X)))\n",
    "\t\t\tself.delta_bias = 2/N * (np.sum(((np.matmul(self.weight, X) + self.bias) - Y)))\n",
    "\t\t\tself.weight -= 0.1 * self.delta_W\n",
    "\t\t\tself.bias -= 0.1 * self.delta_bias\n",
    "\n",
    "\t\t\tif s == 2 and t % 10 == 0:\n",
    "\t\t\t\tplt.scatter(x[-180:], y[-180:])\n",
    "\t\t\t\tpred = self.predict(np.array(x[-180:]))\n",
    "\t\t\t\tplt.plot(x[-180:], pred, 'red')\n",
    "\t\t\t\tplt.title(f'iteratrion #{t}')\n",
    "\t\t\t\tplt.show()\n",
    "\n",
    "\t\t\telif s == 3 and t == 50:\n",
    "\t\t\t\tplt.scatter(x[-180:], y[-180:])\n",
    "\t\t\t\tpred = self.predict(np.array(x[-180:]))\n",
    "\t\t\t\tplt.plot(x[-180:], pred, 'red')\n",
    "\t\t\t\tplt.title(text)\n",
    "\t\t\t\tplt.show()\n",
    "\n",
    "\tdef predict(self, X):\n",
    "\t\tproduct = np.matmul(self.weight, np.array(X).reshape(1, -1)) + self.bias\n",
    "\t\treturn product.reshape(-1)"
   ]
  },
  {
   "cell_type": "code",
   "execution_count": null,
   "metadata": {},
   "outputs": [],
   "source": [
    "reg = LinearRegression()\n",
    "x = (data['Weight'] - data['Weight'].mean()) / data['Weight'].std()\n",
    "y = (data['Height'] - data['Height'].mean()) / data['Height'].std()\n",
    "reg.fit(x[:-180], y[:-180], 2)"
   ]
  },
  {
   "cell_type": "code",
   "execution_count": null,
   "metadata": {},
   "outputs": [],
   "source": [
    "reg = LinearRegression()\n",
    "x = (data['Weight'] - data['Weight'].mean()) / data['Weight'].std()\n",
    "y = (data['Height'] - data['Height'].mean()) / data['Height'].std()\n",
    "reg.fit(x[:-180], y[:-180], 3, \"Z-score & Gradient\")\n",
    "\n",
    "reg = LinearRegression()\n",
    "x = (data['Weight'] - data['Weight'].min()) / (data['Weight'].max() - data['Weight'].min())\n",
    "y = (data['Height'] - data['Height'].min()) / (data['Height'].max() - data['Height'].min())\n",
    "reg.fit(x[:-180], y[:-180], 3, \"min-max & Gradient\")"
   ]
  }
 ],
 "metadata": {
  "interpreter": {
   "hash": "5db0bf8e65298cb01341d1d0401e9d0f1ebbad7939f704a64363986abd13b2a8"
  },
  "kernelspec": {
   "display_name": "Python 3.9.7 ('nlp')",
   "language": "python",
   "name": "python3"
  },
  "language_info": {
   "codemirror_mode": {
    "name": "ipython",
    "version": 3
   },
   "file_extension": ".py",
   "mimetype": "text/x-python",
   "name": "python",
   "nbconvert_exporter": "python",
   "pygments_lexer": "ipython3",
   "version": "3.9.7"
  },
  "orig_nbformat": 4
 },
 "nbformat": 4,
 "nbformat_minor": 2
}
